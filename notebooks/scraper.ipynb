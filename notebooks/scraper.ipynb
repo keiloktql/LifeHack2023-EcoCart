{
 "cells": [
  {
   "cell_type": "code",
   "execution_count": 39,
   "metadata": {},
   "outputs": [],
   "source": [
    "from selenium import webdriver\n",
    "from bs4 import BeautifulSoup\n",
    "import pandas as pd\n",
    "\n",
    "from urllib.request import urlopen"
   ]
  },
  {
   "cell_type": "code",
   "execution_count": 40,
   "metadata": {},
   "outputs": [],
   "source": [
    "# Whitelisted urls\n",
    "all_urls = [\n",
    "    \"https://www.co2everything.com/category/clothes-and-fabrics\",\n",
    "    \"https://www.co2everything.com/category/electronics\",\n",
    "    \"https://www.co2everything.com/category/food\",\n",
    "    \"https://www.co2everything.com/category/fruit-and-vegetables\",\n",
    "    \"https://www.co2everything.com/category/meat-and-protein\",\n",
    "    \"https://www.co2everything.com/category/milk\",\n",
    "    \"https://www.co2everything.com/category/packaging\",\n",
    "    \"https://www.co2everything.com/category/travel-and-transport\"\n",
    "]"
   ]
  },
  {
   "cell_type": "code",
   "execution_count": 41,
   "metadata": {},
   "outputs": [],
   "source": [
    "def get_values(url: str, fact_table: dict = {}):\n",
    "    # Read HTML Page and pass it to BS4\n",
    "    page = urlopen(url)\n",
    "    html = page.read().decode(\"utf-8\")\n",
    "    soup = BeautifulSoup(html, \"html.parser\")\n",
    "\n",
    "    for item in soup.find_all(\"div\", {\"class\": \"collection-item\", \"role\": \"listitem\"}):\n",
    "        key = item.find_all(\"div\", {\"class\": \"name\"})[0].get_text()\n",
    "        value = item.find_all(\"div\", {\"class\": \"kmtext\"})[0].get_text()\n",
    "        fact_table[key] = value\n",
    "    return fact_table"
   ]
  },
  {
   "cell_type": "code",
   "execution_count": 44,
   "metadata": {},
   "outputs": [
    {
     "data": {
      "text/plain": [
       "{'Wool': '13.89',\n",
       " 'Acrylic Fabric': '11.53',\n",
       " 'Cotton': '8.3',\n",
       " 'Silk': '7.63',\n",
       " 'Nylon': '7.31',\n",
       " 'Polyester': '6.4',\n",
       " 'Linen': '4.5',\n",
       " 'Apple MacBook Pro 16': '394',\n",
       " 'Apple iPad Pro': '119',\n",
       " 'Apple iPhone': '72',\n",
       " 'Beef': '15.5',\n",
       " 'Lamb': '5.84',\n",
       " 'Prawns': '4.07',\n",
       " 'Cheese': '2.79',\n",
       " 'Pork': '2.4',\n",
       " 'Chicken': '1.82',\n",
       " 'Fish': '1.34',\n",
       " 'Dark Chocolate Bar': '0.95',\n",
       " 'Eggs (2)': '0.53',\n",
       " 'Tomato': '0.32',\n",
       " 'Berries': '0.22',\n",
       " 'Rice': '0.16',\n",
       " 'Banana': '0.11',\n",
       " 'Tofu': '0.08',\n",
       " 'Apple': '0.06',\n",
       " 'Brassicas (Cabbage, Kale etc)': '0.05',\n",
       " 'Nuts (Mixed)': '0.05',\n",
       " 'Orange': '0.05',\n",
       " 'Potatoes': '0.05',\n",
       " 'Root Vegetables (Carrot etc)': '0.04',\n",
       " 'Milk (Cow)': '0.8',\n",
       " 'Rice Milk': '0.3',\n",
       " 'Soy Milk': '0.25',\n",
       " 'Oat Milk': '0.22',\n",
       " 'Almond Milk': '0.18',\n",
       " 'Plastic Bag (Strong Reusable)': '21.51',\n",
       " 'Plastic Bag (Basic Reusable)': '6.92',\n",
       " 'Paper Bag': '5.52',\n",
       " 'Plastic Bag (Single Use)': '1.58',\n",
       " 'Ford F-150 AWD 2020': '3.72',\n",
       " 'Toyota Corolla 2020': '1.97',\n",
       " 'Plane Travel': '1.46',\n",
       " 'Motorbike': '1.13',\n",
       " 'Bus Travel': '1.03',\n",
       " 'Tesla Model 3 2020': '0.81',\n",
       " 'Train Travel': '0.37',\n",
       " 'Bike Travel': '0'}"
      ]
     },
     "execution_count": 44,
     "metadata": {},
     "output_type": "execute_result"
    }
   ],
   "source": [
    "fact_table = {}\n",
    "for url in all_urls:\n",
    "    fact_table = get_values(url, fact_table=fact_table)\n",
    "fact_table"
   ]
  },
  {
   "cell_type": "code",
   "execution_count": null,
   "metadata": {},
   "outputs": [],
   "source": [
    "import json\n",
    "with open('result.json', 'w') as fp:\n",
    "    json.dump(fact_table, fp)"
   ]
  },
  {
   "cell_type": "code",
   "execution_count": null,
   "metadata": {},
   "outputs": [],
   "source": []
  }
 ],
 "metadata": {
  "kernelspec": {
   "display_name": "Python 3",
   "language": "python",
   "name": "python3"
  },
  "language_info": {
   "codemirror_mode": {
    "name": "ipython",
    "version": 3
   },
   "file_extension": ".py",
   "mimetype": "text/x-python",
   "name": "python",
   "nbconvert_exporter": "python",
   "pygments_lexer": "ipython3",
   "version": "3.10.4"
  },
  "orig_nbformat": 4
 },
 "nbformat": 4,
 "nbformat_minor": 2
}
